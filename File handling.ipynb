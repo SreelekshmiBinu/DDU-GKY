{
 "cells": [
  {
   "cell_type": "markdown",
   "id": "1e9f72ed",
   "metadata": {},
   "source": [
    "### File handling in Python"
   ]
  },
  {
   "cell_type": "code",
   "execution_count": 1,
   "id": "8b876c47",
   "metadata": {},
   "outputs": [],
   "source": [
    "f=open(\"file.txt\",'w')\n",
    "f.write('i am learning python')\n",
    "f.close()"
   ]
  },
  {
   "cell_type": "code",
   "execution_count": 2,
   "id": "e97b2b1d",
   "metadata": {},
   "outputs": [],
   "source": [
    "f=open(\"D:/python/file2.txt\",'w') # create a file in specified path\n",
    "f.write(' ia am learning python\\n')\n",
    "f.write(' ia am learning java\\n')\n",
    "f.close()"
   ]
  },
  {
   "cell_type": "code",
   "execution_count": 3,
   "id": "bb724afa",
   "metadata": {},
   "outputs": [],
   "source": [
    "f=open(\"D:/python/file2.txt\",'a') # append made won't owerwrite the file instead they add the text in to the file\n",
    "f.write(' ia am learning OOPS\\n')\n",
    "f.write(' ia am learning CPP\\n')\n",
    "f.close()"
   ]
  },
  {
   "cell_type": "code",
   "execution_count": 4,
   "id": "e4454f11",
   "metadata": {},
   "outputs": [
    {
     "name": "stdout",
     "output_type": "stream",
     "text": [
      " ia am learning python\n",
      " ia am learning java\n",
      " ia am learning OOPS\n",
      " ia am learning CPP\n",
      "\n"
     ]
    }
   ],
   "source": [
    "f=open(\"D:/python/file2.txt\",'r') # append mode won't overwrite a file instead they add the text into the file\n",
    "print(f.read())\n",
    "f.close()"
   ]
  },
  {
   "cell_type": "code",
   "execution_count": 5,
   "id": "bfe72e3e",
   "metadata": {},
   "outputs": [
    {
     "name": "stdout",
     "output_type": "stream",
     "text": [
      " ia am learning python\n",
      "\n",
      " ia am lea\n",
      "rning java\n",
      "\n",
      " ia am learning OOPS\n",
      " ia am learning CPP\n",
      "\n",
      "\n",
      "89\n",
      "0\n",
      " ia am learning python\n",
      " ia am learning java\n",
      " ia am learning OOPS\n",
      " ia am learning CPP\n",
      "\n",
      "89\n"
     ]
    }
   ],
   "source": [
    "f=open(\"D:/python/file2.txt\",'r')\n",
    "print(f.readline())\n",
    "print(f.read(10))\n",
    "print(f.readline())\n",
    "print(f.read())\n",
    "print(f.readline())\n",
    "print(f.tell())\n",
    "print(f.seek(0))\n",
    "print(f.read())\n",
    "print(f.tell())\n",
    "f.close()\n"
   ]
  },
  {
   "cell_type": "code",
   "execution_count": 11,
   "id": "b88857bb",
   "metadata": {},
   "outputs": [
    {
     "name": "stdout",
     "output_type": "stream",
     "text": [
      " ia am learning python\n",
      "\n",
      " ia am learning java\n",
      "\n",
      " ia am learning OOPS\n",
      "\n",
      " ia am learning CPP\n",
      "\n"
     ]
    }
   ],
   "source": [
    "f=open(\"D:/python/file2.txt\",'r') # append mode won't overwrite a file instead they add the text into the file\n",
    "for line in f:\n",
    "    print(line)\n",
    "f.close()"
   ]
  },
  {
   "cell_type": "code",
   "execution_count": null,
   "id": "77a110f0",
   "metadata": {},
   "outputs": [],
   "source": [
    "with open(\"file4.txt\",'wt') as fp:\n",
    "    fp.write(\"Welcome to pythonexamples.org. Here, you will find python programs for all general use cases.\")"
   ]
  },
  {
   "cell_type": "code",
   "execution_count": null,
   "id": "5ec1cd7c",
   "metadata": {},
   "outputs": [],
   "source": [
    "file = open(\"D:/python/file2.txt\",'rt')\n",
    "data = file.read()\n",
    "words = data.split()\n",
    "print(words)\n",
    "\n",
    "print(\"Number of words in text file :\", len(words))"
   ]
  },
  {
   "cell_type": "code",
   "execution_count": 13,
   "id": "1b9ac706",
   "metadata": {},
   "outputs": [
    {
     "name": "stdout",
     "output_type": "stream",
     "text": [
      "{'ia': 1, 'am': 3, 'learning': 3, 'python,': 1, 'i': 2, 'java,': 1, 'C++': 1}\n"
     ]
    }
   ],
   "source": [
    "def word_count(str):\n",
    "    counts = dict()\n",
    "    words = str.split()\n",
    "\n",
    "    for word in words:\n",
    "        if word in counts:\n",
    "            counts[word] += 1\n",
    "        else:\n",
    "            counts[word] = 1\n",
    "\n",
    "    return counts\n",
    "print(word_count(\"ia am learning python, i am learning java, i am learning C++\"))"
   ]
  },
  {
   "cell_type": "code",
   "execution_count": null,
   "id": "67a628f2",
   "metadata": {},
   "outputs": [],
   "source": []
  }
 ],
 "metadata": {
  "kernelspec": {
   "display_name": "Python 3 (ipykernel)",
   "language": "python",
   "name": "python3"
  },
  "language_info": {
   "codemirror_mode": {
    "name": "ipython",
    "version": 3
   },
   "file_extension": ".py",
   "mimetype": "text/x-python",
   "name": "python",
   "nbconvert_exporter": "python",
   "pygments_lexer": "ipython3",
   "version": "3.9.13"
  }
 },
 "nbformat": 4,
 "nbformat_minor": 5
}
