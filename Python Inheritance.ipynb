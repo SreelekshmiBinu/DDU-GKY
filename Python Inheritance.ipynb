{
 "cells": [
  {
   "cell_type": "markdown",
   "id": "8480e7c3",
   "metadata": {},
   "source": [
    "### <center> PYTHON INHERITANCE"
   ]
  },
  {
   "cell_type": "code",
   "execution_count": 1,
   "id": "33a92216",
   "metadata": {},
   "outputs": [
    {
     "name": "stdout",
     "output_type": "stream",
     "text": [
      "dog makes sound\n"
     ]
    }
   ],
   "source": [
    "class Animal:\n",
    "    def __init__(self,name,color):\n",
    "        self.name=name\n",
    "        self.color=color\n",
    "    def make_sound(self):\n",
    "        print(self.name,\"makes sound\")\n",
    "class Dog(Animal):\n",
    "    pass\n",
    "d=Dog('dog','black')\n",
    "d.make_sound()"
   ]
  },
  {
   "cell_type": "code",
   "execution_count": 2,
   "id": "8466d2f8",
   "metadata": {},
   "outputs": [
    {
     "name": "stdout",
     "output_type": "stream",
     "text": [
      "dog makes sound\n"
     ]
    }
   ],
   "source": [
    "class Animal:\n",
    "    def __init__(self,name,color):\n",
    "        self.name=name\n",
    "        self.color=color\n",
    "    def make_sound(self):\n",
    "        print(self.name,'makes sound')\n",
    "class Dog(Animal):\n",
    "    def __init__(self):\n",
    "        self.name='dog'\n",
    "        self.color='black'\n",
    "        \n",
    "d=Dog()\n",
    "d.make_sound()"
   ]
  },
  {
   "cell_type": "code",
   "execution_count": 3,
   "id": "7f4a5dc1",
   "metadata": {},
   "outputs": [
    {
     "name": "stdout",
     "output_type": "stream",
     "text": [
      "animal1 can eat\n",
      "animal2 can eat\n",
      "c1 can eat\n",
      "c1 it can feed milk\n",
      "animal2 make sound\n",
      "meow\n"
     ]
    }
   ],
   "source": [
    "class Animal:\n",
    "    \n",
    "    def __init__(self,name,color):\n",
    "        self.name=name\n",
    "        self.color=color\n",
    "    def make_sound(self):\n",
    "        print(self.name,'make sound')\n",
    "    def eat(self):\n",
    "        print(self.name,'can eat')\n",
    "    def walk(self):\n",
    "        print(self.name,'can walk')\n",
    "class Mammal(Animal):\n",
    "    def feed_milk(self):\n",
    "        print(self.name,'it can feed milk')\n",
    "class Cat(Mammal):\n",
    "    def make_sound(self):\n",
    "        print(\"meow\")\n",
    "              \n",
    "              \n",
    "a=Animal('animal1','b')\n",
    "m=Mammal(\"animal2\",\"w\")\n",
    "c=Cat(\"c1\",\"b\")\n",
    "a.eat()\n",
    "m.eat()\n",
    "c.eat()\n",
    "c.feed_milk()\n",
    "m.make_sound()\n",
    "c.make_sound()\n",
    "        "
   ]
  },
  {
   "cell_type": "code",
   "execution_count": 6,
   "id": "8fcc96e0",
   "metadata": {},
   "outputs": [
    {
     "name": "stdout",
     "output_type": "stream",
     "text": [
      "name of the dog is:germanshepherd\n"
     ]
    }
   ],
   "source": [
    "class Animal:\n",
    "    def __init__(self,name):\n",
    "        self.name=name\n",
    "    def make_sound(self):\n",
    "        print(\"makes sound\")\n",
    "class Dog(Animal):\n",
    "    def __init_(self,name):\n",
    "        super().__init__(name)\n",
    "    def display(self):\n",
    "        print(f\"name of the dog is:{self.name}\")\n",
    "d1=Dog(\"germanshepherd\")\n",
    "d1.display()"
   ]
  },
  {
   "cell_type": "code",
   "execution_count": 8,
   "id": "d69b5ea8",
   "metadata": {},
   "outputs": [
    {
     "name": "stdout",
     "output_type": "stream",
     "text": [
      "makes sound\n",
      "meow sound\n",
      "makes sound\n"
     ]
    }
   ],
   "source": [
    "class Animal:\n",
    "    def make_sound(self):\n",
    "        print(\"makes sound\")\n",
    "class Dog(Animal):\n",
    "    pass\n",
    "class Cat(Animal):\n",
    "    def make_sound(self):\n",
    "        print(\"meow sound\")\n",
    "d1=Dog()\n",
    "d1.make_sound()\n",
    "c1=Cat()\n",
    "c1.make_sound()\n",
    "a1=Animal()\n",
    "a1.make_sound()"
   ]
  },
  {
   "cell_type": "code",
   "execution_count": 12,
   "id": "08c55b72",
   "metadata": {},
   "outputs": [
    {
     "name": "stdout",
     "output_type": "stream",
     "text": [
      "name:rahul\n",
      "id:123\n"
     ]
    }
   ],
   "source": [
    "class Person:\n",
    "    def __init__(self,name):\n",
    "        self.name=name\n",
    "class Employee(Person):\n",
    "    def __init__(self,name,ids):\n",
    "        super().__init__(name)\n",
    "        self.id=ids\n",
    "    def display(self):\n",
    "        print(f\"name:{self.name}\\nid:{self.id}\")\n",
    "e1=Employee(\"rahul\",123)\n",
    "e1.display()"
   ]
  },
  {
   "cell_type": "code",
   "execution_count": 13,
   "id": "7bce921e",
   "metadata": {},
   "outputs": [
    {
     "name": "stdout",
     "output_type": "stream",
     "text": [
      "your bill is:100\n",
      "your bill is:900.0\n",
      "your bill is:800.0\n"
     ]
    }
   ],
   "source": [
    "class Customer:\n",
    "    def __init__(self,cid,qnty,price):\n",
    "        self.cid=cid\n",
    "        self.qnty=qnty\n",
    "        self.price=price\n",
    "        self.discount=0\n",
    "    def generate_bill(self):\n",
    "        self.price=self.price*self.qnty\n",
    "        self.discountamount=self.price*self.discount\n",
    "        return self.price-self.discountamount\n",
    "class Silver_customer(Customer):\n",
    "    def __init__(self,cid,qnty,price):\n",
    "        super().__init__(cid,qnty,price)\n",
    "        self.discount=10/100\n",
    "\n",
    "class Golden_customer(Customer):\n",
    "    def __init__(self,cid,qnty,price):\n",
    "        Customer.__init__(self,cid,qnty,price)\n",
    "        self.discount=20/100\n",
    "\n",
    "c1=Customer(\"1\",1,100)\n",
    "print(f\"your bill is:{c1.generate_bill()}\")\n",
    "s1=Silver_customer(\"1\",10,100)\n",
    "print(f\"your bill is:{s1.generate_bill()}\")\n",
    "g1=Golden_customer(\"1\",10,100)\n",
    "print(f\"your bill is:{g1.generate_bill()}\")"
   ]
  },
  {
   "cell_type": "code",
   "execution_count": null,
   "id": "79c42cd1",
   "metadata": {},
   "outputs": [],
   "source": [
    "                                      "
   ]
  }
 ],
 "metadata": {
  "kernelspec": {
   "display_name": "Python 3 (ipykernel)",
   "language": "python",
   "name": "python3"
  },
  "language_info": {
   "codemirror_mode": {
    "name": "ipython",
    "version": 3
   },
   "file_extension": ".py",
   "mimetype": "text/x-python",
   "name": "python",
   "nbconvert_exporter": "python",
   "pygments_lexer": "ipython3",
   "version": "3.9.13"
  }
 },
 "nbformat": 4,
 "nbformat_minor": 5
}
